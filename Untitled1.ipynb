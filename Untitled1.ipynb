{
 "cells": [
  {
   "cell_type": "code",
   "execution_count": null,
   "id": "certain-designation",
   "metadata": {},
   "outputs": [
    {
     "name": "stdout",
     "output_type": "stream",
     "text": [
      "1\n",
      "2\n",
      "3\n",
      "4\n",
      "5\n",
      "6\n",
      "7\n"
     ]
    }
   ],
   "source": [
    "import sys\n",
    "from utils import *\n",
    "from instructions import Instruction\n",
    "from settings import *\n",
    "from uncompute import *\n",
    "\n",
    "n = 37\n",
    "input_file = \"32fsm/const_mr.btor2\"\n",
    "current_settings = get_btor2_settings(input_file)\n",
    "Instruction.all_instructions = read_file(input_file, modify_memory_sort=True, setting=current_settings)\n",
    "Instruction.with_grover = 0\n",
    "\n",
    "for i in range(1, n+1):\n",
    "    print(i)\n",
    "    Instruction.current_n = i\n",
    "    for instruction in Instruction.all_instructions.values():\n",
    "        if instruction[1] == INIT and i == 1:\n",
    "            Instruction(instruction).execute()\n",
    "        elif instruction[1] == NEXT or instruction[1] == BAD:\n",
    "            Instruction(instruction).execute()\n",
    "\n",
    "result_bad_states = Instruction.or_bad_states()\n",
    "assert(len(result_bad_states) == 1)\n",
    "\n",
    "print(\"stack: \", Instruction.global_stack.size)\n"
   ]
  },
  {
   "cell_type": "code",
   "execution_count": null,
   "id": "surprised-reading",
   "metadata": {},
   "outputs": [],
   "source": [
    "circuit_queue = get_circuit_queue(Instruction.global_stack)"
   ]
  },
  {
   "cell_type": "code",
   "execution_count": null,
   "id": "returning-fruit",
   "metadata": {},
   "outputs": [],
   "source": [
    "def are_all_controls_true(values, controls):\n",
    "    for c in controls:\n",
    "        if values[c] == 0:\n",
    "            return False\n",
    "        else:\n",
    "            assert(values[c] == 1)\n",
    "    return True\n",
    "\n",
    "def check_input(value):\n",
    "    # we only set the value of the first input the other ones are set to |0>\n",
    "    qubit_values = {}\n",
    "    for qword in Instruction.input_nids:\n",
    "        for i in range(n+1):\n",
    "            if i in qword.states.keys():\n",
    "                temp_value = value\n",
    "                for qubit in qword.states[i][0]:\n",
    "                    qubit_values[qubit] = temp_value % 2\n",
    "                    temp_value = temp_value // 2\n",
    "    element: Element = circuit_queue.pop()\n",
    "    assert(element.element_type != CHECKPOINT_TYPE)\n",
    "    while element.element_type != CHECKPOINT_TYPE:\n",
    "        for o in element.operands:\n",
    "            if o not in qubit_values.keys():\n",
    "                qubit_values[o] = 0\n",
    "\n",
    "        assert (element.target is not None)\n",
    "\n",
    "        if element.target not in qubit_values.keys():\n",
    "            qubit_values[element.target] = 0\n",
    "\n",
    "        flip_target = True\n",
    "        if element.gate_name == X:\n",
    "            assert(len(element.operands) == 0)\n",
    "\n",
    "        else:\n",
    "            assert((element.gate_name == CX and len(element.operands) ==1) or\n",
    "                   (element.gate_name == CCX and len(element.operands) == 2) or\n",
    "                    element.gate_name == MCX)\n",
    "            flip_target = are_all_controls_true(qubit_values, element.operands)\n",
    "\n",
    "        if flip_target:\n",
    "            qubit_values[element.target] = (qubit_values[element.target] + 1) % 2\n",
    "        circuit_queue.push(element)\n",
    "        element = circuit_queue.pop()\n",
    "    assert element.element_type == CHECKPOINT_TYPE\n",
    "    circuit_queue.push(element)\n",
    "    for (bad_state, line) in Instruction.bad_states_to_line_no.items():\n",
    "        if qubit_values[bad_state] == 1:\n",
    "            print(line)\n",
    "    return qubit_values[result_bad_states[0]]"
   ]
  },
  {
   "cell_type": "code",
   "execution_count": 6,
   "id": "future-application",
   "metadata": {},
   "outputs": [],
   "source": [
    "res, qubit_values = i, check_input(i)"
   ]
  },
  {
   "cell_type": "code",
   "execution_count": 4,
   "id": "cordless-hawaiian",
   "metadata": {},
   "outputs": [],
   "source": [
    "res, values = check_input(0)"
   ]
  },
  {
   "cell_type": "code",
   "execution_count": 5,
   "id": "documentary-workshop",
   "metadata": {},
   "outputs": [
    {
     "data": {
      "text/plain": [
       "0"
      ]
     },
     "execution_count": 5,
     "metadata": {},
     "output_type": "execute_result"
    }
   ],
   "source": [
    "res"
   ]
  },
  {
   "cell_type": "code",
   "execution_count": null,
   "id": "foreign-pleasure",
   "metadata": {},
   "outputs": [],
   "source": []
  }
 ],
 "metadata": {
  "kernelspec": {
   "display_name": "Python 3",
   "language": "python",
   "name": "python3"
  },
  "language_info": {
   "codemirror_mode": {
    "name": "ipython",
    "version": 3
   },
   "file_extension": ".py",
   "mimetype": "text/x-python",
   "name": "python",
   "nbconvert_exporter": "python",
   "pygments_lexer": "ipython3",
   "version": "3.9.13"
  }
 },
 "nbformat": 4,
 "nbformat_minor": 5
}
